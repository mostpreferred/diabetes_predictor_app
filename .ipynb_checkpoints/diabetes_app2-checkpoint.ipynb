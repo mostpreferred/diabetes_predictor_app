{
 "cells": [
  {
   "cell_type": "code",
   "execution_count": null,
   "id": "2a7d4dd0-d07f-4c60-b5de-301fd9711aff",
   "metadata": {},
   "outputs": [],
   "source": []
  },
  {
   "cell_type": "code",
   "execution_count": 6,
   "id": "9e3e3fef-5539-4d88-a64a-8ce2d16ce60a",
   "metadata": {},
   "outputs": [
    {
     "data": {
      "image/png": "[encoded data removed]",
      "text/plain": [
       "<Figure size 1000x400 with 2 Axes>"
      ]
     },
     "metadata": {},
     "output_type": "display_data"
    }
   ],
   "source": [
    "import streamlit as st\n",
    "import numpy as np\n",
    "import pickle\n",
    "import matplotlib.pyplot as plt\n",
    "import seaborn as sns\n",
    "\n",
    "# Load model (save it first using pickle)\n",
    "model = pickle.load(open(\"diabetes_model.pkl\",\"rb\"))\n",
    "\n",
    "st.title(\"Diabetes Prediction App\")\n",
    "st.subheader(\"Enter your health data to check your diabetes risk\")\n",
    "\n",
    "# --- Sidebar Navigation ---\n",
    "page = st.sidebar.radio(\"Navigate\", [\"Prediction\", \"About\", \"Health Tips\"])\n",
    "\n",
    "# --- Input sliders ---\n",
    "if page == \"Prediction\":\n",
    "    st.header(\"Health Inputs\")\n",
    "\n",
    "    pregnancies = st.slider(\"Pregnancies\", 0, 20, 1)\n",
    "    glucose = st.slider(\"Glucose Level\", 50, 200, 100)\n",
    "    blood_pressure = st.slider(\"Blood Pressure\", 30, 130, 80)\n",
    "    skin_thickness = st.slider(\"Skin Thickness\", 0, 100, 20)\n",
    "    insulin = st.slider(\"Insulin\", 0, 900, 100)\n",
    "    bmi = st.slider(\"BMI\", 10.0, 70.0, 25.0)\n",
    "    dpf = st.slider(\"Diabetes Pedigree Function\", 0.0, 3.0, 0.5)\n",
    "    age = st.slider(\"Age\", 10, 100, 30)\n",
    "\n",
    "    # --- Prediction ---\n",
    "    if st.button(\"Predict\"):\n",
    "        user_input = np.array([[pregnancies, glucose, blood_pressure, skin_thickness, insulin, bmi, dpf, age]])\n",
    "        result = model.predict(user_input)[0]\n",
    "        confidence = model.predict_proba(user_input)[0][1]\n",
    "\n",
    "        if result == 1:\n",
    "            st.error(f\"You may be at risk of diabetes. Confidence: {confidence:.2%}\")\n",
    "        else:\n",
    "            st.success(f\"You are likely not diabetic. Confidence: {confidence:.2%}\")\n",
    "\n",
    "        # --- Personalized Tips ---\n",
    "        st.markdown(\"### Health Advice:\")\n",
    "        if glucose > 125:\n",
    "            st.warning(\"Your glucose level is high. Consider reducing sugar intake and consulting a doctor.\")\n",
    "        if bmi > 30:\n",
    "            st.warning(\"Your BMI is high. Try to maintain a healthy weight with exercise and balanced meals.\")\n",
    "        if blood_pressure > 120:\n",
    "            st.warning(\"Elevated blood pressure detected. Limit salt intake and monitor regularly.\")\n",
    "        if age > 40 :\n",
    "            st.warning(\"Ensure regular checkups. Age is a predisposing factor to diabetes.\")\n",
    "\n",
    "# --- Data Visualization ---\n",
    "    st.markdown(\"### Sample Data Visualization (Glucose & BMI Boxplot)\")\n",
    "    sample_data = np.array([[glucose, bmi]])\n",
    "    fig, ax = plt.subplots(1, 2, figsize=(10, 4))\n",
    "    sns.boxplot(y=sample_data[:, 0], ax=ax[0], color='skyblue')\n",
    "    ax[0].set_title(\"Glucose Level\")\n",
    "    sns.boxplot(y=sample_data[:, 1], ax=ax[1], color='lightgreen')\n",
    "    ax[1].set_title(\"BMI\")\n",
    "    st.pyplot(fig)\n",
    "\n",
    "# --- About Page ---\n",
    "elif page == \"About\":\n",
    "    st.header(\"About This App\")\n",
    "    st.write(\"\"\"\n",
    "        This app uses a machine learning model to predict the likelihood of diabetes based on health inputs. \n",
    "        It's for educational purposes and should not replace medical advice.\n",
    "    \"\"\")\n",
    "\n",
    "# --- Health Tips Page ---\n",
    "elif page == \"Health Tips\":\n",
    "    st.header(\"General Health Tips\")\n",
    "    st.markdown(\"\"\"\n",
    "    - **Eat balanced meals**: High fiber, low sugar, lean proteins.\n",
    "    - **Stay active**: At least 30 minutes a day.\n",
    "    - **Monitor health metrics** regularly (BP, glucose, BMI).\n",
    "    - **Stay hydrated** and get enough sleep.\n",
    "    \"\"\")\n",
    "\n"
   ]
  },
  {
   "cell_type": "code",
   "execution_count": null,
   "id": "94688a56-dc5d-427c-91de-05c583e6b5b7",
   "metadata": {},
   "outputs": [],
   "source": []
  },
  {
   "cell_type": "code",
   "execution_count": 10,
   "id": "56a7a44d-eaf4-4520-b8fc-fb06ee9c35de",
   "metadata": {},
   "outputs": [
    {
     "name": "stderr",
     "output_type": "stream",
     "text": [
      "[NbConvertApp] Converting notebook diabetes_app2.ipynb to script\n",
      "[NbConvertApp] Writing 3283 bytes to diabetes_app2.py\n"
     ]
    }
   ],
   "source": [
    "#convert and save my file as .py\n",
    "\n",
    "!jupyter nbconvert --to script diabetes_app2.ipynb\n"
   ]
  },
  {
   "cell_type": "code",
   "execution_count": null,
   "id": "ace0bfc0-bf39-4323-9403-a4604452bbf2",
   "metadata": {},
   "outputs": [],
   "source": []
  },
  {
   "cell_type": "code",
   "execution_count": null,
   "id": "255a73d0-4e0f-4d83-9cdb-188c1c81b0a3",
   "metadata": {},
   "outputs": [],
   "source": []
  }
 ],
 "metadata": {
  "kernelspec": {
   "display_name": "Python 3 (ipykernel)",
   "language": "python",
   "name": "python3"
  },
  "language_info": {
   "codemirror_mode": {
    "name": "ipython",
    "version": 3
   },
   "file_extension": ".py",
   "mimetype": "text/x-python",
   "name": "python",
   "nbconvert_exporter": "python",
   "pygments_lexer": "ipython3",
   "version": "3.11.7"
  }
 },
 "nbformat": 4,
 "nbformat_minor": 5
}
