{
 "cells": [
  {
   "cell_type": "code",
   "execution_count": null,
   "id": "2a7d4dd0-d07f-4c60-b5de-301fd9711aff",
   "metadata": {},
   "outputs": [],
   "source": []
  },
  {
   "cell_type": "code",
   "execution_count": 8,
   "id": "9e3e3fef-5539-4d88-a64a-8ce2d16ce60a",
   "metadata": {},
   "outputs": [],
   "source": [
    "import streamlit as st\n",
    "import numpy as np\n",
    "import pickle\n",
    "\n",
    "# Load model (save it first using pickle)\n",
    "model = pickle.load(open(\"diabetes_model.pkl\",\"rb\"))\n",
    "\n",
    "st.title(\"Diabetes Prediction App\")\n",
    "st.write(\"Enter the patient information below:\")\n",
    "\n",
    "# Inputs\n",
    "preg = st.number_input(\"Pregnancies\", 0)\n",
    "glucose = st.number_input(\"Glucose\", 0)\n",
    "bp = st.number_input(\"Blood Pressure\", 0)\n",
    "skin = st.number_input(\"Skin Thickness\", 0)\n",
    "insulin = st.number_input(\"Insulin\", 0)\n",
    "bmi = st.number_input(\"BMI\", 0.0)\n",
    "dpf = st.number_input(\"Diabetes Pedigree Function\", 0.0)\n",
    "age = st.number_input(\"Age\", 0)\n",
    "\n",
    "# Predict\n",
    "if st.button(\"Predict\"):\n",
    "    input_data = np.array([[preg, glucose, bp, skin, insulin, bmi, dpf, age]])\n",
    "    prediction = model.predict(input_data)\n",
    "\n",
    "    if prediction[0] == 1:\n",
    "        st.error(\"The model predicts: Diabetes\")\n",
    "    else:\n",
    "        st.success(\"The model predicts: No Diabetes\")\n"
   ]
  },
  {
   "cell_type": "code",
   "execution_count": null,
   "id": "94688a56-dc5d-427c-91de-05c583e6b5b7",
   "metadata": {},
   "outputs": [],
   "source": []
  },
  {
   "cell_type": "code",
   "execution_count": null,
   "id": "56a7a44d-eaf4-4520-b8fc-fb06ee9c35de",
   "metadata": {},
   "outputs": [],
   "source": []
  },
  {
   "cell_type": "code",
   "execution_count": null,
   "id": "ace0bfc0-bf39-4323-9403-a4604452bbf2",
   "metadata": {},
   "outputs": [],
   "source": []
  }
 ],
 "metadata": {
  "kernelspec": {
   "display_name": "Python 3 (ipykernel)",
   "language": "python",
   "name": "python3"
  },
  "language_info": {
   "codemirror_mode": {
    "name": "ipython",
    "version": 3
   },
   "file_extension": ".py",
   "mimetype": "text/x-python",
   "name": "python",
   "nbconvert_exporter": "python",
   "pygments_lexer": "ipython3",
   "version": "3.11.7"
  }
 },
 "nbformat": 4,
 "nbformat_minor": 5
}
